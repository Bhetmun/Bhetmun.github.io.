{
 "cells": [
  {
   "cell_type": "markdown",
   "id": "94baf31c",
   "metadata": {},
   "source": [
    "# Week 1 : Getting started with Anaconda, Jupyter Notebook and Python\n",
    "\n",
    "Exercise to familiarise myself with Jupyter Notebook and its relationship to Python."
   ]
  },
  {
   "cell_type": "markdown",
   "id": "4c9bc134",
   "metadata": {},
   "source": [
    "#### Reasons for joining the course\n",
    "I wanted to learn more about AI and try it out \n",
    "\n",
    "#### Prior Experience \n",
    "I have no experience with coding AI but I have some basic coding experience with html and css\n",
    "\n",
    "#### What I expect to learn from the course\n",
    "\n",
    "-How to code using Python language \n",
    "-Why AI will continue to develop and become more mainstream \n",
    "-How I can use AI in my own life "
   ]
  },
  {
   "cell_type": "code",
   "execution_count": null,
   "id": "af613442",
   "metadata": {},
   "outputs": [],
   "source": [
    "print (\"Hello world!\")"
   ]
  },
  {
   "cell_type": "code",
   "execution_count": null,
   "id": "4d181b8d",
   "metadata": {},
   "outputs": [],
   "source": [
    "message = \"Bomba\"\n",
    "\n",
    "print (message)"
   ]
  },
  {
   "cell_type": "code",
   "execution_count": null,
   "id": "1610aea0",
   "metadata": {},
   "outputs": [],
   "source": [
    "message = \"beans\"\n",
    "\n",
    "print (message + message)"
   ]
  },
  {
   "cell_type": "code",
   "execution_count": null,
   "id": "bec120f5",
   "metadata": {},
   "outputs": [],
   "source": [
    "message = \"beans\"\n",
    "\n",
    "print (message*3)\n"
   ]
  },
  {
   "cell_type": "code",
   "execution_count": null,
   "id": "0c556ae8",
   "metadata": {},
   "outputs": [],
   "source": [
    "message = \"beans\"\n",
    "\n",
    "print (message[0])"
   ]
  },
  {
   "cell_type": "code",
   "execution_count": null,
   "id": "2d5dd639",
   "metadata": {},
   "outputs": [],
   "source": [
    "message = \"beans\"\n",
    "\n",
    "print (message[1])"
   ]
  },
  {
   "cell_type": "code",
   "execution_count": null,
   "id": "2ed99b3f",
   "metadata": {},
   "outputs": [],
   "source": [
    "print (message)"
   ]
  },
  {
   "cell_type": "code",
   "execution_count": null,
   "id": "2c4cc05f",
   "metadata": {},
   "outputs": [],
   "source": [
    "from IPython.display import *"
   ]
  },
  {
   "cell_type": "code",
   "execution_count": null,
   "id": "754d5d30",
   "metadata": {},
   "outputs": [],
   "source": [
    "YouTubeVideo (\"05PKG_pWsVY\")"
   ]
  },
  {
   "cell_type": "code",
   "execution_count": null,
   "id": "75c83677",
   "metadata": {},
   "outputs": [],
   "source": []
  }
 ],
 "metadata": {
  "kernelspec": {
   "display_name": "Python 3 (ipykernel)",
   "language": "python",
   "name": "python3"
  },
  "language_info": {
   "codemirror_mode": {
    "name": "ipython",
    "version": 3
   },
   "file_extension": ".py",
   "mimetype": "text/x-python",
   "name": "python",
   "nbconvert_exporter": "python",
   "pygments_lexer": "ipython3",
   "version": "3.11.0"
  }
 },
 "nbformat": 4,
 "nbformat_minor": 5
}

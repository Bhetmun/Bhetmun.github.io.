{
 "cells": [
  {
   "cell_type": "code",
   "execution_count": null,
   "id": "fda8b8a0",
   "metadata": {},
   "outputs": [],
   "source": [
    "from IPython.display import Image "
   ]
  },
  {
   "cell_type": "code",
   "execution_count": null,
   "id": "4f5cbcc8",
   "metadata": {},
   "outputs": [],
   "source": [
    "Image (\"picture1.jpg\")"
   ]
  },
  {
   "cell_type": "code",
   "execution_count": null,
   "id": "73aae498",
   "metadata": {},
   "outputs": [],
   "source": [
    "from IPython.display import Audio"
   ]
  },
  {
   "cell_type": "code",
   "execution_count": null,
   "id": "a09774a4",
   "metadata": {},
   "outputs": [],
   "source": [
    "Audio (\"audio1.mid\")"
   ]
  },
  {
   "cell_type": "code",
   "execution_count": null,
   "id": "3a8a84a7",
   "metadata": {},
   "outputs": [],
   "source": [
    "Audio (\"audio2.ogg\")"
   ]
  },
  {
   "cell_type": "markdown",
   "id": "b2c154bd",
   "metadata": {},
   "source": [
    "### Licensing information \n",
    "This file is licensed under the Creative Common Attribution-Share Alike 3.0 Unported license"
   ]
  },
  {
   "cell_type": "markdown",
   "id": "66af6588",
   "metadata": {},
   "source": [
    "## Task 3-2"
   ]
  },
  {
   "cell_type": "code",
   "execution_count": null,
   "id": "de58faf5",
   "metadata": {},
   "outputs": [],
   "source": [
    "from matplotlib import pyplot \n",
    "\n",
    "test_picture = pyplot.imread (\"picture1.jpg\")\n",
    "print (\"Numpy array of the image is: \", 2*test_picture/3)\n",
    "pyplot.imshow (test_picture)"
   ]
  },
  {
   "cell_type": "code",
   "execution_count": null,
   "id": "10caff7b",
   "metadata": {},
   "outputs": [],
   "source": [
    "pyplot.imshow(test_picture_filtered)"
   ]
  },
  {
   "cell_type": "markdown",
   "id": "e7bab640",
   "metadata": {},
   "source": [
    "##### It seems to show to RBG data values for the main subject of the image, the hedgehog"
   ]
  },
  {
   "cell_type": "markdown",
   "id": "3b2887b3",
   "metadata": {},
   "source": [
    "## Task 3-3"
   ]
  },
  {
   "cell_type": "code",
   "execution_count": null,
   "id": "e45af4e2",
   "metadata": {},
   "outputs": [],
   "source": [
    "from sklearn import datasets"
   ]
  },
  {
   "cell_type": "code",
   "execution_count": null,
   "id": "a5210783",
   "metadata": {},
   "outputs": [],
   "source": [
    "dir(datasets)"
   ]
  },
  {
   "cell_type": "code",
   "execution_count": null,
   "id": "58d8c366",
   "metadata": {},
   "outputs": [],
   "source": [
    "diabetes_data = datasets.load_diabetes()"
   ]
  },
  {
   "cell_type": "code",
   "execution_count": null,
   "id": "9ce1ccde",
   "metadata": {},
   "outputs": [],
   "source": [
    "diabetes_data.DESCR"
   ]
  },
  {
   "cell_type": "code",
   "execution_count": null,
   "id": "9e01f9a6",
   "metadata": {},
   "outputs": [],
   "source": [
    "print (diabetes_data.DESCR)"
   ]
  },
  {
   "cell_type": "code",
   "execution_count": null,
   "id": "ef1376d1",
   "metadata": {},
   "outputs": [],
   "source": [
    "diabetes_data.feature_names"
   ]
  },
  {
   "cell_type": "code",
   "execution_count": null,
   "id": "60bc24b0",
   "metadata": {},
   "outputs": [],
   "source": [
    "wine_data = datasets.load_wine()\n",
    "\n",
    "print (wine_data.DESCR)"
   ]
  },
  {
   "cell_type": "code",
   "execution_count": null,
   "id": "09fd2b67",
   "metadata": {},
   "outputs": [],
   "source": [
    "wine_data.target_names"
   ]
  },
  {
   "cell_type": "code",
   "execution_count": null,
   "id": "e597bf83",
   "metadata": {},
   "outputs": [],
   "source": [
    "diabetes_data.target_names"
   ]
  },
  {
   "cell_type": "code",
   "execution_count": null,
   "id": "b873210b",
   "metadata": {},
   "outputs": [],
   "source": [
    "from sklearn import datasets \n",
    "\n",
    "import pandas \n",
    "\n",
    "wine_data = datasets.load_wine()\n",
    "\n",
    "wine_dataframe = pandas.DataFrame(data=wine_data['data'], columns = wine_data['feature_names'])"
   ]
  },
  {
   "cell_type": "code",
   "execution_count": null,
   "id": "6d0c5517",
   "metadata": {},
   "outputs": [],
   "source": [
    "wine_dataframe.head()"
   ]
  },
  {
   "cell_type": "code",
   "execution_count": null,
   "id": "f3d5360b",
   "metadata": {},
   "outputs": [],
   "source": [
    "wine_dataframe.describe()"
   ]
  },
  {
   "cell_type": "code",
   "execution_count": null,
   "id": "197f1958",
   "metadata": {},
   "outputs": [],
   "source": []
  }
 ],
 "metadata": {
  "kernelspec": {
   "display_name": "Python 3 (ipykernel)",
   "language": "python",
   "name": "python3"
  },
  "language_info": {
   "codemirror_mode": {
    "name": "ipython",
    "version": 3
   },
   "file_extension": ".py",
   "mimetype": "text/x-python",
   "name": "python",
   "nbconvert_exporter": "python",
   "pygments_lexer": "ipython3",
   "version": "3.11.0"
  }
 },
 "nbformat": 4,
 "nbformat_minor": 5
}
